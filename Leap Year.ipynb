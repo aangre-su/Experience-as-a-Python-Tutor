{
 "cells": [
  {
   "cell_type": "code",
   "execution_count": null,
   "metadata": {
    "collapsed": true
   },
   "outputs": [],
   "source": [
    "##to check if given year is a leap year\n",
    "def is_leap(year):\n",
    "    leap = False\n",
    "    if(year%4==0):\n",
    "        if(year%100==0):\n",
    "            if(year%400==0):\n",
    "                leap = True\n",
    "                return leap\n",
    "            else:\n",
    "                leap = False\n",
    "                return leap\n",
    "        else:\n",
    "            leap = True\n",
    "            return leap\n",
    "    else:\n",
    "        leap = False\n",
    "        return leap\n",
    "    "
   ]
  }
 ],
 "metadata": {
  "kernelspec": {
   "display_name": "Python 3",
   "language": "python",
   "name": "python3"
  },
  "language_info": {
   "codemirror_mode": {
    "name": "ipython",
    "version": 3
   },
   "file_extension": ".py",
   "mimetype": "text/x-python",
   "name": "python",
   "nbconvert_exporter": "python",
   "pygments_lexer": "ipython3",
   "version": "3.6.5"
  }
 },
 "nbformat": 4,
 "nbformat_minor": 2
}
