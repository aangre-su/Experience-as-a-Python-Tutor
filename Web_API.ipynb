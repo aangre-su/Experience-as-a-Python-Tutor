{
 "cells": [
  {
   "cell_type": "code",
   "execution_count": 1,
   "metadata": {},
   "outputs": [],
   "source": [
    "import requests\n",
    "location=\"Syracuse,NY\"\n",
    "url=\"http://maps.googleapis.com/maps/api/geocode/json\"\n",
    "#the way the request module works u need to call the get method\n",
    "#help(requests.get)\n",
    "params={'address':location}  \n",
    "response=requests.get(url,params)"
   ]
  },
  {
   "cell_type": "code",
   "execution_count": 2,
   "metadata": {},
   "outputs": [
    {
     "data": {
      "text/plain": [
       "<Response [200]>"
      ]
     },
     "execution_count": 2,
     "metadata": {},
     "output_type": "execute_result"
    }
   ],
   "source": [
    "response #it is an object"
   ]
  },
  {
   "cell_type": "code",
   "execution_count": 3,
   "metadata": {},
   "outputs": [
    {
     "data": {
      "text/plain": [
       "200"
      ]
     },
     "execution_count": 3,
     "metadata": {},
     "output_type": "execute_result"
    }
   ],
   "source": [
    "response.status_code"
   ]
  },
  {
   "cell_type": "code",
   "execution_count": 4,
   "metadata": {},
   "outputs": [
    {
     "data": {
      "text/plain": [
       "'{\\n   \"error_message\" : \"Keyless access to Google Maps Platform is deprecated. Please use an API key with all your API calls to avoid service interruption. For further details please refer to http://g.co/dev/maps-no-account\",\\n   \"results\" : [],\\n   \"status\" : \"OVER_QUERY_LIMIT\"\\n}\\n'"
      ]
     },
     "execution_count": 4,
     "metadata": {},
     "output_type": "execute_result"
    }
   ],
   "source": [
    "response.text #this is the file that is in the url since we need to access this we need to format it"
   ]
  },
  {
   "cell_type": "code",
   "execution_count": 5,
   "metadata": {},
   "outputs": [
    {
     "data": {
      "text/plain": [
       "{'error_message': 'Keyless access to Google Maps Platform is deprecated. Please use an API key with all your API calls to avoid service interruption. For further details please refer to http://g.co/dev/maps-no-account',\n",
       " 'results': [],\n",
       " 'status': 'OVER_QUERY_LIMIT'}"
      ]
     },
     "execution_count": 5,
     "metadata": {},
     "output_type": "execute_result"
    }
   ],
   "source": [
    "#nice about requests package that it includes the json and we can use it\n",
    "response.json()#will give u back a python object #u need to access all this right?? so you need a python object for that\n",
    "#lets save this \n",
    "location_data=response.json()\n",
    "type(location_data)\n",
    "location_data\n",
    "#we need to grab location data results which is the key to access the inside elements\n",
    "\n"
   ]
  },
  {
   "cell_type": "code",
   "execution_count": 6,
   "metadata": {},
   "outputs": [
    {
     "data": {
      "text/plain": [
       "[]"
      ]
     },
     "execution_count": 6,
     "metadata": {},
     "output_type": "execute_result"
    }
   ],
   "source": [
    "location_data['results'] #this is a list"
   ]
  },
  {
   "cell_type": "code",
   "execution_count": null,
   "metadata": {},
   "outputs": [],
   "source": []
  },
  {
   "cell_type": "code",
   "execution_count": 7,
   "metadata": {},
   "outputs": [
    {
     "data": {
      "text/plain": [
       "0"
      ]
     },
     "execution_count": 7,
     "metadata": {},
     "output_type": "execute_result"
    }
   ],
   "source": [
    "len(location_data['results'])#1 item so 1st item is 0"
   ]
  },
  {
   "cell_type": "code",
   "execution_count": 8,
   "metadata": {},
   "outputs": [
    {
     "ename": "IndexError",
     "evalue": "list index out of range",
     "output_type": "error",
     "traceback": [
      "\u001b[1;31m---------------------------------------------------------------------------\u001b[0m",
      "\u001b[1;31mIndexError\u001b[0m                                Traceback (most recent call last)",
      "\u001b[1;32m<ipython-input-8-1651340f3d81>\u001b[0m in \u001b[0;36m<module>\u001b[1;34m()\u001b[0m\n\u001b[1;32m----> 1\u001b[1;33m \u001b[0mlocation_data\u001b[0m\u001b[1;33m[\u001b[0m\u001b[1;34m'results'\u001b[0m\u001b[1;33m]\u001b[0m\u001b[1;33m[\u001b[0m\u001b[1;36m0\u001b[0m\u001b[1;33m]\u001b[0m\u001b[1;33m\u001b[0m\u001b[0m\n\u001b[0m\u001b[0;32m      2\u001b[0m \u001b[1;33m\u001b[0m\u001b[0m\n\u001b[0;32m      3\u001b[0m \u001b[1;31m#bounds are the upper location so we will use geometry\u001b[0m\u001b[1;33m\u001b[0m\u001b[1;33m\u001b[0m\u001b[0m\n\u001b[0;32m      4\u001b[0m \u001b[1;31m#we also need lat and long so we will use loaction\u001b[0m\u001b[1;33m\u001b[0m\u001b[1;33m\u001b[0m\u001b[0m\n",
      "\u001b[1;31mIndexError\u001b[0m: list index out of range"
     ]
    }
   ],
   "source": [
    "location_data['results'][0]\n",
    "\n",
    "#bounds are the upper location so we will use geometry\n",
    "#we also need lat and long so we will use loaction"
   ]
  },
  {
   "cell_type": "code",
   "execution_count": null,
   "metadata": {},
   "outputs": [],
   "source": [
    "location_data['results'][0]['geometry']['location']"
   ]
  },
  {
   "cell_type": "code",
   "execution_count": null,
   "metadata": {},
   "outputs": [],
   "source": [
    "#let us create a function for the same\n",
    "def get_google_Geocode(location):"
   ]
  },
  {
   "cell_type": "code",
   "execution_count": null,
   "metadata": {},
   "outputs": [],
   "source": [
    "import requests\n",
    "location=\"Syracuse,NY\"\n",
    "location1=\"Tampa,FL\"\n",
    "def get_google_Geocode(location):\n",
    "    url=\"http://maps.googleapis.com/maps/api/geocode/json\"\n",
    "    params={'address':location}\n",
    "    response=requests.get(url,params)\n",
    "    location_data=response.json()\n",
    "    coords=location_data['results'][0]['geometry']['location']\n",
    "    return coords\n",
    "\n",
    "#main program\n",
    "location=\"Syracuse,NY\"\n",
    "coords=get_google_Geocode(location)\n",
    "coords"
   ]
  },
  {
   "cell_type": "code",
   "execution_count": null,
   "metadata": {},
   "outputs": [],
   "source": [
    "key='30c10bdefac0d4861f0e8f2f6d19467f'\n",
    "url1='https://api.darksky.net/forecast/%s/%f,%f' % (key, coords['lat'], coords['lng'])\n",
    "print url1\n",
    "url1"
   ]
  },
  {
   "cell_type": "code",
   "execution_count": null,
   "metadata": {},
   "outputs": [],
   "source": [
    "url1='https://api.darksky.net/forecast/%s/%f,%f' % (key, coords['lat'], coords['lng'])\n",
    "respone=requests.get(url1)\n",
    "response.json()"
   ]
  },
  {
   "cell_type": "code",
   "execution_count": null,
   "metadata": {},
   "outputs": [],
   "source": [
    "weather_data=response.json()\n",
    "weather_data"
   ]
  },
  {
   "cell_type": "code",
   "execution_count": null,
   "metadata": {},
   "outputs": [],
   "source": [
    "weather_data['currently']"
   ]
  },
  {
   "cell_type": "code",
   "execution_count": null,
   "metadata": {},
   "outputs": [],
   "source": [
    "#######################MAKING A REQUEST#######################################33"
   ]
  },
  {
   "cell_type": "code",
   "execution_count": null,
   "metadata": {},
   "outputs": [],
   "source": [
    "import requests\n",
    "r1 = requests.get('https://api.github.com/events')\n",
    "r2 = requests.post('http://httpbin.org/post', data = {'key':'value'})\n",
    "r3 = requests.put('http://httpbin.org/put', data = {'key':'value'})\n",
    "r4 = requests.delete('http://httpbin.org/delete')\n",
    "r5 = requests.head('http://httpbin.org/get')\n",
    "r6 = requests.options('http://httpbin.org/get')"
   ]
  },
  {
   "cell_type": "code",
   "execution_count": null,
   "metadata": {},
   "outputs": [],
   "source": [
    "key = '30c10bdefac0d4861f0e8f2f6d19467f' # sign up for your own key at https://darksky.net/dev \n",
    "url='https://api.darksky.net/forecast/%s/%f,%f' % (key, coords['lat'], coords['lng'])\n",
    "response = requests.get(url)\n",
    "weather = response.json()\n",
    "weather"
   ]
  }
 ],
 "metadata": {
  "kernelspec": {
   "display_name": "Python 3",
   "language": "python",
   "name": "python3"
  },
  "language_info": {
   "codemirror_mode": {
    "name": "ipython",
    "version": 3
   },
   "file_extension": ".py",
   "mimetype": "text/x-python",
   "name": "python",
   "nbconvert_exporter": "python",
   "pygments_lexer": "ipython3",
   "version": "3.6.5"
  }
 },
 "nbformat": 4,
 "nbformat_minor": 2
}
